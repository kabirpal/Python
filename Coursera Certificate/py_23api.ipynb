{
 "cells": [
  {
   "cell_type": "code",
   "execution_count": 2,
   "metadata": {},
   "outputs": [
    {
     "output_type": "stream",
     "name": "stdout",
     "text": "Retrieving http://py4e-data.dr-chuck.net/json?address=Jawaharlal+Nehru+University&key=42\nRetrieved 1834 characters\n{\n   \"results\" : [\n      {\n         \"access_points\" : [],\n         \"address_components\" : [\n            {\n               \"long_name\" : \"New Delhi\",\n               \"short_name\" : \"New Delhi\",\n               \"types\" : [ \"locality\", \"political\" ]\n            },\n            {\n               \"long_name\" : \"New Delhi\",\n               \"short_name\" : \"New Delhi\",\n               \"types\" : [ \"administrative_area_level_2\", \"political\" ]\n            },\n            {\n               \"long_name\" : \"Delhi\",\n               \"short_name\" : \"DL\",\n               \"types\" : [ \"administrative_area_level_1\", \"political\" ]\n            },\n            {\n               \"long_name\" : \"India\",\n               \"short_name\" : \"IN\",\n               \"types\" : [ \"country\", \"political\" ]\n            },\n            {\n               \"long_name\" : \"110067\",\n               \"short_name\" : \"110067\",\n               \"types\" : [ \"postal_code\" ]\n            }\n         ],\n         \"formatted_address\" : \"Jawaharlal Nehru University, New Delhi, Delhi 110067, India\",\n         \"geometry\" : {\n            \"location\" : {\n               \"lat\" : 28.5393351,\n               \"lng\" : 77.1687226\n            },\n            \"location_type\" : \"GEOMETRIC_CENTER\",\n            \"viewport\" : {\n               \"northeast\" : {\n                  \"lat\" : 28.5406840802915,\n                  \"lng\" : 77.17007158029151\n               },\n               \"southwest\" : {\n                  \"lat\" : 28.5379861197085,\n                  \"lng\" : 77.16737361970848\n               }\n            }\n         },\n         \"place_id\" : \"ChIJpzGK2MIdDTkRKkZIy7o3Iyk\",\n         \"plus_code\" : {\n            \"compound_code\" : \"G5Q9+PF New Delhi, Delhi, India\",\n            \"global_code\" : \"7JWVG5Q9+PF\"\n         },\n         \"types\" : [ \"establishment\", \"point_of_interest\" ]\n      }\n   ],\n   \"status\" : \"OK\"\n}\n\nChIJpzGK2MIdDTkRKkZIy7o3Iyk\n"
    }
   ],
   "source": [
    "import urllib.request, urllib.parse, urllib.error\n",
    "import json\n",
    "import ssl\n",
    "api_key = 42\n",
    "serviceurl = 'http://py4e-data.dr-chuck.net/json?'\n",
    "# Ignore SSL certificate errors\n",
    "ctx = ssl.create_default_context()\n",
    "ctx.check_hostname = False\n",
    "ctx.verify_mode = ssl.CERT_NONE\n",
    "\n",
    "while True:\n",
    "    address = input('Enter location: ')\n",
    "    if len(address) < 1: break\n",
    "\n",
    "    #parms = dict()\n",
    "    #parms['address'] = address\n",
    "    #if api_key is not False: parms['key'] = api_key\n",
    "    url = serviceurl + urllib.parse.urlencode(address)\n",
    "\n",
    "    print('Retrieving', url)S\n",
    "    uh = urllib.request.urlopen(url, context=ctx)\n",
    "    data = uh.read().decode()\n",
    "    print('Retrieved', len(data), 'characters')\n",
    "\n",
    "    try:\n",
    "        js = json.loads(data)\n",
    "    except:\n",
    "        js = None\n",
    "\n",
    "    if not js or 'status' not in js or js['status'] != 'OK':\n",
    "        print('==== Failure To Retrieve ====')\n",
    "        print(data)\n",
    "        continue\n",
    "    print(data)    \n",
    "    placeid = js['results'][0]['place_id']\n",
    "    print(placeid)\n"
   ]
  },
  {
   "cell_type": "code",
   "execution_count": null,
   "metadata": {},
   "outputs": [],
   "source": []
  }
 ],
 "metadata": {
  "kernelspec": {
   "display_name": "Python 3.8.3 64-bit",
   "language": "python",
   "name": "python38364bit881752a37a2f42c5acce8c3b236cd4ec"
  },
  "language_info": {
   "codemirror_mode": {
    "name": "ipython",
    "version": 3
   },
   "file_extension": ".py",
   "mimetype": "text/x-python",
   "name": "python",
   "nbconvert_exporter": "python",
   "pygments_lexer": "ipython3",
   "version": "3.8.3-final"
  }
 },
 "nbformat": 4,
 "nbformat_minor": 4
}
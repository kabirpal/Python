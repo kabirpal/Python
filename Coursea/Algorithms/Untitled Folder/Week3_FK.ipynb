{
 "cells": [
  {
   "cell_type": "code",
   "execution_count": null,
   "id": "284a983a-4650-43ff-8f17-220dd1fa6cc2",
   "metadata": {},
   "outputs": [],
   "source": []
  }
 ],
 "metadata": {
  "kernelspec": {
   "display_name": "Python 3.8.3 64-bit",
   "language": "python",
   "name": "python38364bit881752a37a2f42c5acce8c3b236cd4ec"
  },
  "language_info": {
   "codemirror_mode": {
    "name": "ipython",
    "version": 3
   },
   "file_extension": ".py",
   "mimetype": "text/x-python",
   "name": "python",
   "nbconvert_exporter": "python",
   "pygments_lexer": "ipython3",
   "version": "3.8.3"
  }
 },
 "nbformat": 4,
 "nbformat_minor": 5
}
